{
 "cells": [
  {
   "cell_type": "markdown",
   "metadata": {},
   "source": [
    "# NumPy and pandas\n",
    "## General\n",
    "### NumPy\n",
    "NumPy is used for performing numerical computations on arrays and matrices, such as mean, median, percentiles and linear algebra computations. Simply install numpy with pip `pip3 install numpy`. \n",
    "\n",
    "### Pandas\n",
    "Pandas is used for handling tabular datasets that usually combine different types of data columns (integer, float, nominals, etc). Pandas requires NumPy. To install: `pip3 install pandas`."
   ]
  },
  {
   "cell_type": "markdown",
   "metadata": {},
   "source": [
    "## Numpy examples"
   ]
  },
  {
   "cell_type": "markdown",
   "metadata": {},
   "source": [
    "### The basics"
   ]
  },
  {
   "cell_type": "code",
   "execution_count": 1,
   "metadata": {},
   "outputs": [
    {
     "name": "stdout",
     "output_type": "stream",
     "text": [
      "a:\n",
      "[[0. 0. 0. 0.]\n",
      " [0. 0. 0. 0.]]\n",
      "b:\n",
      "[[1. 1. 1. 1.]\n",
      " [1. 1. 1. 1.]]\n",
      "a+b:\n",
      "[[1. 1. 1. 1.]\n",
      " [1. 1. 1. 1.]]\n",
      "a-2b:\n",
      "[[-2. -2. -2. -2.]\n",
      " [-2. -2. -2. -2.]]\n",
      "shape:\n",
      "(2, 4)\n"
     ]
    }
   ],
   "source": [
    "# zeros and ones. array shape\n",
    "import numpy as np\n",
    "a = np.zeros((2, 4))\n",
    "b = np.ones((2, 4))\n",
    "print(f\"a:\\n{a}\")\n",
    "print(f\"b:\\n{b}\")\n",
    "print(f\"a+b:\\n{a+b}\")\n",
    "print(f\"a-2b:\\n{a-2*b}\")\n",
    "print(f\"shape:\\n{a.shape}\")"
   ]
  },
  {
   "cell_type": "code",
   "execution_count": 2,
   "metadata": {},
   "outputs": [
    {
     "name": "stdout",
     "output_type": "stream",
     "text": [
      "a+b[ 3. 12.  4.]\n",
      "int64\n",
      "float64\n",
      "float64\n"
     ]
    }
   ],
   "source": [
    "# creating arrays from lists and array types\n",
    "import numpy as np\n",
    "a = np.array([1, 2, 5])\n",
    "b = np.array([2.0, 10, -1])\n",
    "print(f\"a+b{a + b}\")\n",
    "print(a.dtype)\n",
    "print(b.dtype)\n",
    "print((a+b).dtype)"
   ]
  },
  {
   "cell_type": "code",
   "execution_count": 5,
   "metadata": {},
   "outputs": [
    {
     "name": "stdout",
     "output_type": "stream",
     "text": [
      "float64\n",
      "uint8\n",
      "[  2  10 251]\n"
     ]
    }
   ],
   "source": [
    "# to change the type of a numpy array use astype():\n",
    "import numpy as np\n",
    "b = np.array([2.1, 10, -5])\n",
    "b_reduced = b.astype('uint8')\n",
    "print(b.dtype)\n",
    "print(b_reduced.dtype)\n",
    "print(b_reduced)"
   ]
  },
  {
   "cell_type": "code",
   "execution_count": 10,
   "metadata": {},
   "outputs": [
    {
     "name": "stdout",
     "output_type": "stream",
     "text": [
      "[[200 100]\n",
      " [100 200]]\n",
      "[[255 100]\n",
      " [100 255]]\n",
      "[[199 200]\n",
      " [200 199]]\n",
      "(Result is overfloated!)\n",
      "\n",
      " Results with type conversion:\n",
      "[[455 200]\n",
      " [200 455]]\n"
     ]
    }
   ],
   "source": [
    "import numpy as np\n",
    "x = np.array([[200, 100], [100, 200]]).astype('uint8')\n",
    "y = np.array([[255, 100], [100, 255]]).astype('uint8')\n",
    "print(x)\n",
    "print(y)\n",
    "print(x + y)\n",
    "print(\"(Result is overfloated!)\")\n",
    "print(\"\\n Results with type conversion:\")\n",
    "print(x.astype('int32') + y.astype('int32'))"
   ]
  },
  {
   "cell_type": "code",
   "execution_count": 3,
   "metadata": {},
   "outputs": [
    {
     "name": "stdout",
     "output_type": "stream",
     "text": [
      "a:[ 0  5 10 15]\n",
      "a-10:[-10  -5   0   5]\n",
      "a^2:[  0  25 100 225]\n",
      "a-b:[10 10 10 10]\n",
      "cos(b * pi / 20):[6.12323400e-17 7.07106781e-01 1.00000000e+00 7.07106781e-01]\n"
     ]
    }
   ],
   "source": [
    "# numpy.arange. basic operations\n",
    "import numpy as np\n",
    "a = np.arange(0, 20, 5)\n",
    "b = np.arange(0, 20, 5) - 10\n",
    "print(f\"a:{a}\")\n",
    "print(f\"a-10:{a-10}\")\n",
    "print(f\"a^2:{a ** 2}\")\n",
    "print(f\"a-b:{a-b}\")\n",
    "print(f\"cos(b * pi / 20):{np.cos(b * np.pi / 20.0)}\")"
   ]
  },
  {
   "cell_type": "code",
   "execution_count": 4,
   "metadata": {},
   "outputs": [
    {
     "name": "stdout",
     "output_type": "stream",
     "text": [
      "A .* B =\n",
      " [[0 2]\n",
      " [1 1]]\n",
      "A * B =\n",
      " [[2 2]\n",
      " [0 2]]\n"
     ]
    }
   ],
   "source": [
    "# element-wise product matrix product\n",
    "import numpy as np\n",
    "A = np.array([[0, 2], [1, 1]])\n",
    "B = np.array([[-1, 1], [1, 1]])\n",
    "print(f\"A .* B =\\n {A * B}\")     # element-wise\n",
    "print(f\"A * B =\\n {A.dot(B)}\")  # matrix product"
   ]
  },
  {
   "cell_type": "code",
   "execution_count": 5,
   "metadata": {},
   "outputs": [
    {
     "name": "stdout",
     "output_type": "stream",
     "text": [
      "[0 1 2 3 4 5 6 7 8 9]\n",
      "[[0 1 2 3 4]\n",
      " [5 6 7 8 9]]\n"
     ]
    }
   ],
   "source": [
    "# reshaping arrays\n",
    "import numpy as np\n",
    "x = np.arange(10)\n",
    "print(x)\n",
    "print(x.reshape(2, 5))"
   ]
  },
  {
   "cell_type": "markdown",
   "metadata": {},
   "source": [
    "### Numpy statistics\n",
    "The following example reads the temperatures from NYC in the last 150 years on the same day (9th April). The csv file contains 3 rows, namely date, max day temp and min day temp. Date is saved in a list and the two temperatures in numpy arrays. The following code extracts some basic statistics including, mean vale, median value, max, min and  10 and 90 percentiles. "
   ]
  },
  {
   "cell_type": "code",
   "execution_count": 12,
   "metadata": {},
   "outputs": [
    {
     "name": "stdout",
     "output_type": "stream",
     "text": [
      "Average max-day temperature is 55.3\n",
      "Median max-day temperature is 54.0\n",
      "Average min-day temperature is 39.6\n",
      "Median min-day temperature is 39.0\n",
      "The maximum max-day temp was 86.0 in 1991\n",
      "The maximum min-day temp was 68.0 in 1991\n",
      "The minimum max-day temp was 39.0 in 1885\n",
      "The minimum max-day temp was 25.0 in 1977\n",
      "[1874, 1884, 1885, 1900, 1907, 1911, 1917, 1935, 1974, 1979, 1982, 1996, 1997, 2003]\n",
      "[1871, 1879, 1921, 1929, 1934, 1945, 1959, 1968, 1970, 1981, 1991, 2001, 2002, 2013]\n",
      "[1876, 1880, 1885, 1888, 1891, 1900, 1917, 1920, 1950, 1958, 1972, 1977, 1997, 2000]\n",
      "[1871, 1895, 1915, 1921, 1922, 1929, 1959, 1968, 1970, 1980, 1981, 1991, 2002, 2012, 2013]\n"
     ]
    }
   ],
   "source": [
    "import csv\n",
    "import numpy as np\n",
    "\n",
    "years = []\n",
    "max_t, min_t = np.array([]), np.array([])\n",
    "# read the csv file of New York min and max temperatures of 9th April for the last 150 years:\n",
    "with open('data_ny_temperatures.csv', newline='') as csvfile:\n",
    "    reader = csv.reader(csvfile, delimiter=',', quotechar='|')\n",
    "    for ir, row in enumerate(reader):\n",
    "        if ir>0:\n",
    "            max_t = np.append(max_t, float(row[1]))\n",
    "            min_t = np.append(min_t, float(row[2]))\n",
    "            years.append(int(row[0].split('-')[0]))\n",
    "\n",
    "print(f\"Average max-day temperature is {max_t.mean():.1f}\")\n",
    "print(f\"Median max-day temperature is {np.median(max_t):.1f}\")\n",
    "print(f\"Average min-day temperature is {min_t.mean():.1f}\")\n",
    "print(f\"Median min-day temperature is {np.median(min_t):.1f}\")\n",
    "\n",
    "print(f\"The maximum max-day temp was {np.max(max_t):.1f} in {years[np.argmax(max_t)]}\")\n",
    "print(f\"The maximum min-day temp was {np.max(min_t):.1f} in {years[np.argmax(min_t)]}\")\n",
    "print(f\"The minimum max-day temp was {np.min(max_t):.1f} in {years[np.argmin(max_t)]}\")\n",
    "print(f\"The minimum max-day temp was {np.min(min_t):.1f} in {years[np.argmin(min_t)]}\")\n",
    "\n",
    "max_t_p_10 = np.percentile(max_t, 10)\n",
    "max_t_p_90 = np.percentile(max_t, 90)\n",
    "years_max_10 = [y for i, y in enumerate(years) if max_t[i] < max_t_p_10]\n",
    "print(years_max_10)\n",
    "years_max_90 = [y for i, y in enumerate(years) if max_t[i] > max_t_p_90]\n",
    "print(years_max_90)\n",
    "min_t_p_10 = np.percentile(min_t, 10)\n",
    "min_t_p_90 = np.percentile(min_t, 90)\n",
    "years_min_10 = [y for i, y in enumerate(years) if min_t[i] < min_t_p_10]\n",
    "print(years_min_10)\n",
    "years_min_90 = [y for i, y in enumerate(years) if min_t[i] > min_t_p_90]\n",
    "print(years_min_90)"
   ]
  },
  {
   "cell_type": "markdown",
   "metadata": {},
   "source": [
    "A note on speed: if you need to append a large number of elements in a numpy array, it is much faster to append it to a list and then convert the list to numpy array (instead of using the numpy.append() method). And list comprehension is obvioysly even faster. "
   ]
  },
  {
   "cell_type": "code",
   "execution_count": 14,
   "metadata": {},
   "outputs": [
    {
     "name": "stdout",
     "output_type": "stream",
     "text": [
      "numpy.append(): 100.55 msecs\n",
      "list append and numpy array conversion: 2.01 msecs\n",
      "list comprehension and numpy array conversion: 1.13 msecs\n"
     ]
    }
   ],
   "source": [
    "import numpy as np\n",
    "import time\n",
    "\n",
    "t1 = time.time()\n",
    "a = np.array([])\n",
    "for i in range(1, 10000):\n",
    "    a = np.append(a, i)\n",
    "t2 = time.time()\n",
    "print(f\"numpy.append(): {1000 * (t2 - t1):.2f} msecs\")\n",
    "\n",
    "t1 = time.time()\n",
    "a = []\n",
    "for i in range(1, 10000):\n",
    "    a.append(i)\n",
    "a = np.array(a)\n",
    "t2 = time.time()\n",
    "print(f\"list append and numpy array conversion: {1000 * (t2 - t1):.2f} msecs\")\n",
    "\n",
    "t1 = time.time()\n",
    "a = [i for i in range(1, 10000)]\n",
    "a = np.array(a)\n",
    "t2 = time.time()\n",
    "print(f\"list comprehension and numpy array conversion: {1000 * (t2 - t1):.2f} msecs\")"
   ]
  },
  {
   "cell_type": "markdown",
   "metadata": {},
   "source": [
    "Talking about statistics, two of the most important quantities used in random variable statistics (whatever quantity they measure) are mean and standard deviation. We've already seen mean in some examples above. Standard deviation, which measures how close the values of the variable are to their mean value. Below, we are showing how to compute mean and std of a sequence and how to standardize the values of the sequence into having a standard deviation of 1 and mean value equal to 0. This is a very important process, used in machine learning and data science before training models and before predicting. An alternative is the max / min normalization, not shown here. "
   ]
  },
  {
   "cell_type": "code",
   "execution_count": 8,
   "metadata": {},
   "outputs": [
    {
     "name": "stdout",
     "output_type": "stream",
     "text": [
      "mean is 9.992 and std is 4.794\n",
      "after standardization mean is -0.000 and std is 1.000\n"
     ]
    }
   ],
   "source": [
    "import numpy as np\n",
    "import numpy.random\n",
    "m, s, n_samples = 10, 5, 1000\n",
    "x = numpy.random.normal(m, s, n_samples)\n",
    "m_est = x.mean()\n",
    "s_est = x.std()\n",
    "\n",
    "print(f\"mean is {m_est:.3f} and std is {s_est:.3f}\")\n",
    "# z = (x - m) / s\n",
    "x_norm = (x - m_est) / s_est\n",
    "print(f\"after standardization mean is {x_norm.mean():.3f} and std is {x_norm.std():.3f}\")"
   ]
  },
  {
   "cell_type": "markdown",
   "metadata": {},
   "source": [
    "### Numpy slicing and row - column operations"
   ]
  },
  {
   "cell_type": "code",
   "execution_count": 9,
   "metadata": {},
   "outputs": [
    {
     "name": "stdout",
     "output_type": "stream",
     "text": [
      "x:\n",
      "[[ 1  2  3]\n",
      " [ 4  5  6]\n",
      " [ 7  8  9]\n",
      " [10 11 12]]\n",
      "\n",
      "x[1:, :-1]:\n",
      "[[ 4  5]\n",
      " [ 7  8]\n",
      " [10 11]]\n"
     ]
    }
   ],
   "source": [
    "import numpy as np\n",
    "x = np.array([[1,2,3], [4,5,6], [7, 8, 9], [10, 11, 12]])\n",
    "print(\"x:\")\n",
    "print(x)\n",
    "print(\"\\nx[1:, :-1]:\")\n",
    "print(x[1:, :-1])"
   ]
  },
  {
   "cell_type": "code",
   "execution_count": 10,
   "metadata": {},
   "outputs": [
    {
     "name": "stdout",
     "output_type": "stream",
     "text": [
      "global mean 6.5\n",
      "global min 1\n",
      "global max 12\n",
      "column-wise mean [5.5 6.5 7.5]\n",
      "row-wise mean [ 2.  5.  8. 11.]\n"
     ]
    }
   ],
   "source": [
    "# global and row-wise or column-wise calculations\n",
    "import numpy as np\n",
    "x = np.array([[1,2,3], [4,5,6], [7, 8, 9], [10, 11, 12]])\n",
    "print(f\"global mean {x.mean()}\")\n",
    "print(f\"global min {x.min()}\")\n",
    "print(f\"global max {x.max()}\")\n",
    "print(f\"column-wise mean {x.mean(axis=0)}\")\n",
    "print(f\"row-wise mean {x.mean(axis=1)}\")"
   ]
  },
  {
   "cell_type": "markdown",
   "metadata": {},
   "source": []
  },
  {
   "cell_type": "markdown",
   "metadata": {},
   "source": [
    "### Broadcasting\n",
    "Broadcasting in numpy is. a very powerful mechanism that allows numpy operators to work on arrays of different shapes.\n",
    "\n",
    "We saw previously that element-to-element operations are possible in numpy when arrays have the same dimensions. However, operations on arrays that do not share the same shapes is possible in numpy because of broadcasting. Broadcasting can be performed when the shape of each dimension in the arrays are equal or one has the one of its dimensions equal to 1. Below are some broadcasting examples:"
   ]
  },
  {
   "cell_type": "code",
   "execution_count": 11,
   "metadata": {},
   "outputs": [
    {
     "name": "stdout",
     "output_type": "stream",
     "text": [
      "[[3 4]\n",
      " [5 6]]\n",
      "add a 4x3 with a 3x1 numpy array:\n",
      "[[ 2  4  6]\n",
      " [ 5  7  9]\n",
      " [ 8 10 12]\n",
      " [11 13 15]]\n",
      "add a 4x3 with a 4x1 numpy array:\n",
      "[[ 2  3  4]\n",
      " [ 6  7  8]\n",
      " [10 11 12]\n",
      " [14 15 16]]\n"
     ]
    }
   ],
   "source": [
    "# broacasting examples\n",
    "import numpy as np\n",
    "# example 1:\n",
    "x = np.array([[1, 2], [3, 4]])\n",
    "print(x + 2)  # scalar and 2D array broadcasting\n",
    "\n",
    "# example 2:\n",
    "x = np.array([[1,2,3], [4,5,6], [7, 8, 9], [10, 11, 12]])\n",
    "y = np.array([1, 2, 3])\n",
    "print(f\"add a {x.shape[0]}x{x.shape[1]} with a {y.shape[0]}x{1} numpy array:\")\n",
    "print(x + y)\n",
    "\n",
    "#example 3:\n",
    "y = np.array([1, 2, 3, 4]).reshape(4,1)\n",
    "print(f\"add a {x.shape[0]}x{x.shape[1]} with a {y.shape[0]}x{1} numpy array:\")\n",
    "print(x + y)"
   ]
  },
  {
   "cell_type": "code",
   "execution_count": 6,
   "metadata": {},
   "outputs": [
    {
     "data": {
      "text/plain": [
       "array([[-1.29937373, -1.57845666],\n",
       "       [-0.82687419,  0.67648143],\n",
       "       [-0.11812488, -1.12746904],\n",
       "       [ 1.06312396,  0.67648143],\n",
       "       [ 1.5356235 ,  1.12746904],\n",
       "       [-0.35437465,  0.22549381]])"
      ]
     },
     "execution_count": 6,
     "metadata": {},
     "output_type": "execute_result"
    }
   ],
   "source": [
    "import numpy as np\n",
    "# A normalization example without looping (using numpy broadcasting)\n",
    "# initialize features (columns represent features and rows represent instances)\n",
    "X = np.array([[200,0.1],[220,0.15],[250,0.11],[300,0.15],[320,0.16],[240,0.14]])\n",
    "\n",
    "# get mean / std per feature (per column):\n",
    "m = X.mean(axis=0) \n",
    "s = X.std(axis=0)\n",
    "\n",
    "# normalize (without having to loop through different rows):\n",
    "X_norm = (X - m) / s\n",
    "# now X_norm is normalized with mean = 0 , std = 1:\n",
    "X_norm"
   ]
  },
  {
   "cell_type": "markdown",
   "metadata": {},
   "source": [
    "## Pandas\n",
    "### Pandas data structures\n",
    "Two are the basic types used in pandas: *series* and *dataframes*.\n",
    "Series is a 1D labeled array that holds any data type (integers, strings, floats etc). To define a Series we need its data and its indices. Obviously the index must be of the same length to the data. If index is not defined, then the default value is \\[0, ..., len(data) - 1\\]. \n",
    "\n",
    "#### Series"
   ]
  },
  {
   "cell_type": "code",
   "execution_count": 7,
   "metadata": {},
   "outputs": [
    {
     "name": "stdout",
     "output_type": "stream",
     "text": [
      "series:\n",
      "index0    0.161133\n",
      "index1   -2.481365\n",
      "index2    0.005878\n",
      "index3    0.985536\n",
      "index4   -0.962256\n",
      "index5    1.366281\n",
      "index6   -0.682629\n",
      "index7   -1.173335\n",
      "index8    1.483380\n",
      "index9    0.064038\n",
      "dtype: float64\n",
      "s.index\n",
      "Index(['index0', 'index1', 'index2', 'index3', 'index4', 'index5', 'index6',\n",
      "       'index7', 'index8', 'index9'],\n",
      "      dtype='object')\n"
     ]
    }
   ],
   "source": [
    "# series definition\n",
    "import pandas as pd\n",
    "import numpy as np\n",
    "s = pd.Series(np.random.randn(10), index=[f'index{i}' for i in range(10)])\n",
    "print(\"series:\"); print(s)\n",
    "print(\"s.index\"); print(s.index)"
   ]
  },
  {
   "cell_type": "code",
   "execution_count": 13,
   "metadata": {},
   "outputs": [
    {
     "name": "stdout",
     "output_type": "stream",
     "text": [
      "series:\n",
      "a    2.1\n",
      "c    1.9\n",
      "b    1.0\n",
      "d   -1.0\n",
      "dtype: float64\n",
      "s.index\n",
      "Index(['a', 'c', 'b', 'd'], dtype='object')\n"
     ]
    }
   ],
   "source": [
    "# one can also initialize series from dict:\n",
    "s = pd.Series({'a': 2.1, 'c': 1.9, 'b': 1, 'd': -1})\n",
    "print(\"series:\"); print(s)\n",
    "print(\"s.index\"); print(s.index)"
   ]
  },
  {
   "cell_type": "code",
   "execution_count": 14,
   "metadata": {},
   "outputs": [
    {
     "name": "stdout",
     "output_type": "stream",
     "text": [
      "1.9 1.9\n"
     ]
    }
   ],
   "source": [
    "# indexing in series can be done with both its indices and integers\n",
    "print(s[1], s['c'])"
   ]
  },
  {
   "cell_type": "code",
   "execution_count": 15,
   "metadata": {},
   "outputs": [
    {
     "data": {
      "text/plain": [
       "(1.0, 1.45)"
      ]
     },
     "execution_count": 15,
     "metadata": {},
     "output_type": "execute_result"
    }
   ],
   "source": [
    "# also Series shares functions from numpy arrays:\n",
    "s.mean(), s.median()"
   ]
  },
  {
   "cell_type": "code",
   "execution_count": 16,
   "metadata": {},
   "outputs": [
    {
     "data": {
      "text/plain": [
       "a   -0.504846\n",
       "c   -0.323290\n",
       "b    0.540302\n",
       "d    0.540302\n",
       "dtype: float64"
      ]
     },
     "execution_count": 16,
     "metadata": {},
     "output_type": "execute_result"
    }
   ],
   "source": [
    "# ... and more functions:\n",
    "np.cos(s)"
   ]
  },
  {
   "cell_type": "code",
   "execution_count": 17,
   "metadata": {},
   "outputs": [
    {
     "data": {
      "text/plain": [
       "a    2.1\n",
       "c    1.9\n",
       "dtype: float64"
      ]
     },
     "execution_count": 17,
     "metadata": {},
     "output_type": "execute_result"
    }
   ],
   "source": [
    "# slicing similar to numpy arrays:\n",
    "s[:-2]"
   ]
  },
  {
   "cell_type": "code",
   "execution_count": 18,
   "metadata": {},
   "outputs": [
    {
     "data": {
      "text/plain": [
       "a    2.1\n",
       "c    1.9\n",
       "b    1.0\n",
       "dtype: float64"
      ]
     },
     "execution_count": 18,
     "metadata": {},
     "output_type": "execute_result"
    }
   ],
   "source": [
    "s[s>0.5]"
   ]
  },
  {
   "cell_type": "code",
   "execution_count": 19,
   "metadata": {},
   "outputs": [
    {
     "data": {
      "text/plain": [
       "a    3.1\n",
       "b    NaN\n",
       "c   -2.0\n",
       "d    NaN\n",
       "g    NaN\n",
       "dtype: float64"
      ]
     },
     "execution_count": 19,
     "metadata": {},
     "output_type": "execute_result"
    }
   ],
   "source": [
    "# BUT, operations are nos the same as numpy. E.g. + results in the union of the indices involved\n",
    "# NaN is assigned as the default value for indices that are not in both series \n",
    "a = pd.Series({'a': 2.1, 'b': 1, 'c': -1})\n",
    "b = pd.Series({'a': 1, 'd': 1, 'g': -1, 'c': -1})\n",
    "a + b"
   ]
  },
  {
   "cell_type": "markdown",
   "metadata": {},
   "source": [
    "#### DataFrame\n",
    "When your data is tabular with row index and column index, the go-to choice is pandas.DataFrame. DataFrame  is a 2D data structure with columns of potentially different types. Conceptually, DataFrame can be considered as a data table stored in a spreadsheet, a csv, a json file or a database. \n",
    "\n",
    "There are several ways to construct a DataFrame object, below are two of the most frequent:"
   ]
  },
  {
   "cell_type": "code",
   "execution_count": 20,
   "metadata": {},
   "outputs": [
    {
     "name": "stdout",
     "output_type": "stream",
     "text": [
      "Index(['name', 'score'], dtype='object')\n",
      "       name  score\n",
      "0     james    4.0\n",
      "1  theodore    3.0\n",
      "2      jane    2.0\n",
      "3     maria    5.0\n"
     ]
    }
   ],
   "source": [
    "# construct DataFrame from dict\n",
    "import pandas as pd\n",
    "d = {'name': [\"james\", \"theodore\", \"jane\", \"maria\"], \n",
    "     'score': [4., 3., 2., 5.]}\n",
    "df = pd.DataFrame(d)\n",
    "print(df.columns)\n",
    "print(df)"
   ]
  },
  {
   "cell_type": "code",
   "execution_count": 21,
   "metadata": {},
   "outputs": [
    {
     "name": "stdout",
     "output_type": "stream",
     "text": [
      "Index(['name', 'score', 'note'], dtype='object')\n",
      "       name score            note\n",
      "0     james     4  this is a note\n",
      "1  theodore     3             NaN\n",
      "2      jane     2             NaN\n",
      "3     maria     5             NaN\n"
     ]
    }
   ],
   "source": [
    "# construct DataFrame from list of dicts\n",
    "# (note that \"sparse\" matrices - aka missing data - are more easily supported using this format)\n",
    "import pandas as pd\n",
    "d = [{'name': 'james', 'score': '4', 'note': 'this is a note'},\n",
    "     {'name': 'theodore', 'score': '3'},\n",
    "     {'name': 'jane', 'score': '2'},\n",
    "     {'name': 'maria', 'score': '5'}]\n",
    "df = pd.DataFrame(d)\n",
    "print(df.columns)\n",
    "print(df)"
   ]
  },
  {
   "cell_type": "markdown",
   "metadata": {},
   "source": [
    "#### More on DataFrames"
   ]
  },
  {
   "cell_type": "code",
   "execution_count": 22,
   "metadata": {},
   "outputs": [
    {
     "name": "stdout",
     "output_type": "stream",
     "text": [
      "3 columns ['date', 'maxt', 'mint']\n",
      "151 rows\n"
     ]
    },
    {
     "data": {
      "text/html": [
       "<div>\n",
       "<style scoped>\n",
       "    .dataframe tbody tr th:only-of-type {\n",
       "        vertical-align: middle;\n",
       "    }\n",
       "\n",
       "    .dataframe tbody tr th {\n",
       "        vertical-align: top;\n",
       "    }\n",
       "\n",
       "    .dataframe thead th {\n",
       "        text-align: right;\n",
       "    }\n",
       "</style>\n",
       "<table border=\"1\" class=\"dataframe\">\n",
       "  <thead>\n",
       "    <tr style=\"text-align: right;\">\n",
       "      <th></th>\n",
       "      <th>date</th>\n",
       "      <th>maxt</th>\n",
       "      <th>mint</th>\n",
       "    </tr>\n",
       "  </thead>\n",
       "  <tbody>\n",
       "    <tr>\n",
       "      <th>0</th>\n",
       "      <td>1869-04-09</td>\n",
       "      <td>47.0</td>\n",
       "      <td>33</td>\n",
       "    </tr>\n",
       "    <tr>\n",
       "      <th>1</th>\n",
       "      <td>1870-04-09</td>\n",
       "      <td>66.0</td>\n",
       "      <td>44</td>\n",
       "    </tr>\n",
       "    <tr>\n",
       "      <th>2</th>\n",
       "      <td>1871-04-09</td>\n",
       "      <td>83.0</td>\n",
       "      <td>62</td>\n",
       "    </tr>\n",
       "    <tr>\n",
       "      <th>3</th>\n",
       "      <td>1872-04-09</td>\n",
       "      <td>54.0</td>\n",
       "      <td>41</td>\n",
       "    </tr>\n",
       "    <tr>\n",
       "      <th>4</th>\n",
       "      <td>1873-04-09</td>\n",
       "      <td>50.0</td>\n",
       "      <td>39</td>\n",
       "    </tr>\n",
       "    <tr>\n",
       "      <th>...</th>\n",
       "      <td>...</td>\n",
       "      <td>...</td>\n",
       "      <td>...</td>\n",
       "    </tr>\n",
       "    <tr>\n",
       "      <th>146</th>\n",
       "      <td>2015-04-09</td>\n",
       "      <td>43.0</td>\n",
       "      <td>37</td>\n",
       "    </tr>\n",
       "    <tr>\n",
       "      <th>147</th>\n",
       "      <td>2016-04-09</td>\n",
       "      <td>43.0</td>\n",
       "      <td>36</td>\n",
       "    </tr>\n",
       "    <tr>\n",
       "      <th>148</th>\n",
       "      <td>2017-04-09</td>\n",
       "      <td>67.0</td>\n",
       "      <td>45</td>\n",
       "    </tr>\n",
       "    <tr>\n",
       "      <th>149</th>\n",
       "      <td>2018-04-09</td>\n",
       "      <td>48.9</td>\n",
       "      <td>32</td>\n",
       "    </tr>\n",
       "    <tr>\n",
       "      <th>150</th>\n",
       "      <td>2019-04-09</td>\n",
       "      <td>51.1</td>\n",
       "      <td>46</td>\n",
       "    </tr>\n",
       "  </tbody>\n",
       "</table>\n",
       "<p>151 rows × 3 columns</p>\n",
       "</div>"
      ],
      "text/plain": [
       "           date  maxt  mint\n",
       "0    1869-04-09  47.0    33\n",
       "1    1870-04-09  66.0    44\n",
       "2    1871-04-09  83.0    62\n",
       "3    1872-04-09  54.0    41\n",
       "4    1873-04-09  50.0    39\n",
       "..          ...   ...   ...\n",
       "146  2015-04-09  43.0    37\n",
       "147  2016-04-09  43.0    36\n",
       "148  2017-04-09  67.0    45\n",
       "149  2018-04-09  48.9    32\n",
       "150  2019-04-09  51.1    46\n",
       "\n",
       "[151 rows x 3 columns]"
      ]
     },
     "execution_count": 22,
     "metadata": {},
     "output_type": "execute_result"
    }
   ],
   "source": [
    "# lets read the CSV file of temperatures again:\n",
    "import pandas as pd\n",
    "df = pd.read_csv(\"data_ny_temperatures.csv\")\n",
    "print(f\"{len(list(df.columns))} columns {list(df.columns)}\")\n",
    "print(f\"{len(df.index)} rows\")\n",
    "df"
   ]
  },
  {
   "cell_type": "code",
   "execution_count": 23,
   "metadata": {},
   "outputs": [
    {
     "data": {
      "text/plain": [
       "0      1869-04-09\n",
       "1      1870-04-09\n",
       "2      1871-04-09\n",
       "3      1872-04-09\n",
       "4      1873-04-09\n",
       "          ...    \n",
       "146    2015-04-09\n",
       "147    2016-04-09\n",
       "148    2017-04-09\n",
       "149    2018-04-09\n",
       "150    2019-04-09\n",
       "Name: date, Length: 151, dtype: object"
      ]
     },
     "execution_count": 23,
     "metadata": {},
     "output_type": "execute_result"
    }
   ],
   "source": [
    "# SELECT a column:\n",
    "import pandas as pd\n",
    "df = pd.read_csv(\"data_ny_temperatures.csv\")\n",
    "df['date']"
   ]
  },
  {
   "cell_type": "code",
   "execution_count": 24,
   "metadata": {},
   "outputs": [
    {
     "data": {
      "text/plain": [
       "array([47. , 66. , 83. , 54. , 50. , 42. , 47. , 43. , 49. , 53. , 69. ,\n",
       "       49. , 56. , 53. , 62. , 41. , 39. , 65. , 63. , 51. , 59. , 46. ,\n",
       "       48. , 51. , 56. , 48. , 64. , 51. , 47. , 57. , 46. , 42. , 49. ,\n",
       "       48. , 64. , 57. , 56. , 51. , 41. , 64. , 51. , 54. , 42. , 63. ,\n",
       "       45. , 44. , 68. , 43. , 40. , 51. , 54. , 45. , 72. , 65. , 50. ,\n",
       "       53. , 56. , 61. , 48. , 52. , 71. , 50. , 63. , 45. , 60. , 69. ,\n",
       "       42. , 47. , 45. , 49. , 46. , 61. , 59. , 49. , 58. , 59. , 71. ,\n",
       "       57. , 48. , 54. , 50. , 46. , 68. , 54. , 60. , 56. , 63. , 52. ,\n",
       "       45. , 52. , 71. , 47. , 52. , 61. , 55. , 47. , 58. , 53. , 59. ,\n",
       "       74. , 64. , 76. , 67. , 51. , 55. , 40. , 52. , 51. , 44. , 57. ,\n",
       "       41. , 57. , 75. , 39. , 58. , 58. , 47. , 55. , 61. , 66. , 56. ,\n",
       "       62. , 86. , 60. , 63. , 55. , 68. , 40. , 42. , 50. , 64. , 50. ,\n",
       "       78. , 76. , 39. , 62. , 63. , 58. , 49. , 58. , 63. , 68. , 58. ,\n",
       "       64. , 82. , 61. , 43. , 43. , 67. , 48.9, 51.1])"
      ]
     },
     "execution_count": 24,
     "metadata": {},
     "output_type": "execute_result"
    }
   ],
   "source": [
    "# convert a column to numpy array:\n",
    "import pandas as pd\n",
    "df = pd.read_csv(\"data_ny_temperatures.csv\")\n",
    "df['maxt'].to_numpy()"
   ]
  },
  {
   "cell_type": "code",
   "execution_count": 25,
   "metadata": {},
   "outputs": [
    {
     "data": {
      "text/plain": [
       "[33, 39, 39, 53, 40, 41, 41, 41]"
      ]
     },
     "execution_count": 25,
     "metadata": {},
     "output_type": "execute_result"
    }
   ],
   "source": [
    "# ... or to list\n",
    "import pandas as pd\n",
    "df = pd.read_csv(\"data_ny_temperatures.csv\")\n",
    "df['mint'].to_list()[::20]"
   ]
  },
  {
   "cell_type": "code",
   "execution_count": 26,
   "metadata": {},
   "outputs": [
    {
     "data": {
      "text/html": [
       "<div>\n",
       "<style scoped>\n",
       "    .dataframe tbody tr th:only-of-type {\n",
       "        vertical-align: middle;\n",
       "    }\n",
       "\n",
       "    .dataframe tbody tr th {\n",
       "        vertical-align: top;\n",
       "    }\n",
       "\n",
       "    .dataframe thead th {\n",
       "        text-align: right;\n",
       "    }\n",
       "</style>\n",
       "<table border=\"1\" class=\"dataframe\">\n",
       "  <thead>\n",
       "    <tr style=\"text-align: right;\">\n",
       "      <th></th>\n",
       "      <th>date</th>\n",
       "      <th>maxt</th>\n",
       "      <th>mint</th>\n",
       "      <th>meant</th>\n",
       "      <th>note</th>\n",
       "    </tr>\n",
       "  </thead>\n",
       "  <tbody>\n",
       "    <tr>\n",
       "      <th>0</th>\n",
       "      <td>1869-04-09</td>\n",
       "      <td>47.0</td>\n",
       "      <td>33</td>\n",
       "      <td>40.00</td>\n",
       "      <td>this is a note</td>\n",
       "    </tr>\n",
       "    <tr>\n",
       "      <th>1</th>\n",
       "      <td>1870-04-09</td>\n",
       "      <td>66.0</td>\n",
       "      <td>44</td>\n",
       "      <td>55.00</td>\n",
       "      <td>this is a note</td>\n",
       "    </tr>\n",
       "    <tr>\n",
       "      <th>2</th>\n",
       "      <td>1871-04-09</td>\n",
       "      <td>83.0</td>\n",
       "      <td>62</td>\n",
       "      <td>72.50</td>\n",
       "      <td>this is a note</td>\n",
       "    </tr>\n",
       "    <tr>\n",
       "      <th>3</th>\n",
       "      <td>1872-04-09</td>\n",
       "      <td>54.0</td>\n",
       "      <td>41</td>\n",
       "      <td>47.50</td>\n",
       "      <td>this is a note</td>\n",
       "    </tr>\n",
       "    <tr>\n",
       "      <th>4</th>\n",
       "      <td>1873-04-09</td>\n",
       "      <td>50.0</td>\n",
       "      <td>39</td>\n",
       "      <td>44.50</td>\n",
       "      <td>this is a note</td>\n",
       "    </tr>\n",
       "    <tr>\n",
       "      <th>...</th>\n",
       "      <td>...</td>\n",
       "      <td>...</td>\n",
       "      <td>...</td>\n",
       "      <td>...</td>\n",
       "      <td>...</td>\n",
       "    </tr>\n",
       "    <tr>\n",
       "      <th>146</th>\n",
       "      <td>2015-04-09</td>\n",
       "      <td>43.0</td>\n",
       "      <td>37</td>\n",
       "      <td>40.00</td>\n",
       "      <td>this is a note</td>\n",
       "    </tr>\n",
       "    <tr>\n",
       "      <th>147</th>\n",
       "      <td>2016-04-09</td>\n",
       "      <td>43.0</td>\n",
       "      <td>36</td>\n",
       "      <td>39.50</td>\n",
       "      <td>this is a note</td>\n",
       "    </tr>\n",
       "    <tr>\n",
       "      <th>148</th>\n",
       "      <td>2017-04-09</td>\n",
       "      <td>67.0</td>\n",
       "      <td>45</td>\n",
       "      <td>56.00</td>\n",
       "      <td>this is a note</td>\n",
       "    </tr>\n",
       "    <tr>\n",
       "      <th>149</th>\n",
       "      <td>2018-04-09</td>\n",
       "      <td>48.9</td>\n",
       "      <td>32</td>\n",
       "      <td>40.45</td>\n",
       "      <td>this is a note</td>\n",
       "    </tr>\n",
       "    <tr>\n",
       "      <th>150</th>\n",
       "      <td>2019-04-09</td>\n",
       "      <td>51.1</td>\n",
       "      <td>46</td>\n",
       "      <td>48.55</td>\n",
       "      <td>this is a note</td>\n",
       "    </tr>\n",
       "  </tbody>\n",
       "</table>\n",
       "<p>151 rows × 5 columns</p>\n",
       "</div>"
      ],
      "text/plain": [
       "           date  maxt  mint  meant            note\n",
       "0    1869-04-09  47.0    33  40.00  this is a note\n",
       "1    1870-04-09  66.0    44  55.00  this is a note\n",
       "2    1871-04-09  83.0    62  72.50  this is a note\n",
       "3    1872-04-09  54.0    41  47.50  this is a note\n",
       "4    1873-04-09  50.0    39  44.50  this is a note\n",
       "..          ...   ...   ...    ...             ...\n",
       "146  2015-04-09  43.0    37  40.00  this is a note\n",
       "147  2016-04-09  43.0    36  39.50  this is a note\n",
       "148  2017-04-09  67.0    45  56.00  this is a note\n",
       "149  2018-04-09  48.9    32  40.45  this is a note\n",
       "150  2019-04-09  51.1    46  48.55  this is a note\n",
       "\n",
       "[151 rows x 5 columns]"
      ]
     },
     "execution_count": 26,
     "metadata": {},
     "output_type": "execute_result"
    }
   ],
   "source": [
    "# you can also INSERT a new column e.g.\n",
    "import pandas as pd\n",
    "df = pd.read_csv(\"data_ny_temperatures.csv\")\n",
    "df['meant'] = (df['mint'] + df['maxt']) / 2\n",
    "# or you can insert a fixed (non-array) value (it will be added to ALL rows)\n",
    "df['note'] = 'this is a note'\n",
    "df"
   ]
  },
  {
   "cell_type": "code",
   "execution_count": 27,
   "metadata": {},
   "outputs": [
    {
     "data": {
      "text/html": [
       "<div>\n",
       "<style scoped>\n",
       "    .dataframe tbody tr th:only-of-type {\n",
       "        vertical-align: middle;\n",
       "    }\n",
       "\n",
       "    .dataframe tbody tr th {\n",
       "        vertical-align: top;\n",
       "    }\n",
       "\n",
       "    .dataframe thead th {\n",
       "        text-align: right;\n",
       "    }\n",
       "</style>\n",
       "<table border=\"1\" class=\"dataframe\">\n",
       "  <thead>\n",
       "    <tr style=\"text-align: right;\">\n",
       "      <th></th>\n",
       "      <th>date</th>\n",
       "      <th>mint</th>\n",
       "    </tr>\n",
       "  </thead>\n",
       "  <tbody>\n",
       "    <tr>\n",
       "      <th>0</th>\n",
       "      <td>1869-04-09</td>\n",
       "      <td>33</td>\n",
       "    </tr>\n",
       "    <tr>\n",
       "      <th>1</th>\n",
       "      <td>1870-04-09</td>\n",
       "      <td>44</td>\n",
       "    </tr>\n",
       "    <tr>\n",
       "      <th>2</th>\n",
       "      <td>1871-04-09</td>\n",
       "      <td>62</td>\n",
       "    </tr>\n",
       "    <tr>\n",
       "      <th>3</th>\n",
       "      <td>1872-04-09</td>\n",
       "      <td>41</td>\n",
       "    </tr>\n",
       "    <tr>\n",
       "      <th>4</th>\n",
       "      <td>1873-04-09</td>\n",
       "      <td>39</td>\n",
       "    </tr>\n",
       "    <tr>\n",
       "      <th>...</th>\n",
       "      <td>...</td>\n",
       "      <td>...</td>\n",
       "    </tr>\n",
       "    <tr>\n",
       "      <th>146</th>\n",
       "      <td>2015-04-09</td>\n",
       "      <td>37</td>\n",
       "    </tr>\n",
       "    <tr>\n",
       "      <th>147</th>\n",
       "      <td>2016-04-09</td>\n",
       "      <td>36</td>\n",
       "    </tr>\n",
       "    <tr>\n",
       "      <th>148</th>\n",
       "      <td>2017-04-09</td>\n",
       "      <td>45</td>\n",
       "    </tr>\n",
       "    <tr>\n",
       "      <th>149</th>\n",
       "      <td>2018-04-09</td>\n",
       "      <td>32</td>\n",
       "    </tr>\n",
       "    <tr>\n",
       "      <th>150</th>\n",
       "      <td>2019-04-09</td>\n",
       "      <td>46</td>\n",
       "    </tr>\n",
       "  </tbody>\n",
       "</table>\n",
       "<p>151 rows × 2 columns</p>\n",
       "</div>"
      ],
      "text/plain": [
       "           date  mint\n",
       "0    1869-04-09    33\n",
       "1    1870-04-09    44\n",
       "2    1871-04-09    62\n",
       "3    1872-04-09    41\n",
       "4    1873-04-09    39\n",
       "..          ...   ...\n",
       "146  2015-04-09    37\n",
       "147  2016-04-09    36\n",
       "148  2017-04-09    45\n",
       "149  2018-04-09    32\n",
       "150  2019-04-09    46\n",
       "\n",
       "[151 rows x 2 columns]"
      ]
     },
     "execution_count": 27,
     "metadata": {},
     "output_type": "execute_result"
    }
   ],
   "source": [
    "# DELETE a column\n",
    "import pandas as pd\n",
    "df = pd.read_csv(\"data_ny_temperatures.csv\")\n",
    "del df['maxt']\n",
    "df"
   ]
  },
  {
   "cell_type": "markdown",
   "metadata": {},
   "source": [
    "We've seen that indexing columns is done like in dicts e.g. df['maxt']. What about indexing rows and assining values to individual cells:"
   ]
  },
  {
   "cell_type": "code",
   "execution_count": 28,
   "metadata": {},
   "outputs": [
    {
     "name": "stdout",
     "output_type": "stream",
     "text": [
      "date    1869-04-09\n",
      "maxt            47\n",
      "mint            33\n",
      "Name: 0, dtype: object\n",
      "           date  maxt  mint\n",
      "0    1869-04-09 -10.0    33\n",
      "1    1870-04-09  66.0    44\n",
      "2    1871-04-09  83.0    62\n",
      "3    1872-04-09  54.0    41\n",
      "4    1873-04-09  50.0    39\n",
      "..          ...   ...   ...\n",
      "146  2015-04-09  43.0    37\n",
      "147  2016-04-09  43.0    36\n",
      "148  2017-04-09  67.0    45\n",
      "149  2018-04-09  48.9    32\n",
      "150  2019-04-09  51.1    46\n",
      "\n",
      "[151 rows x 3 columns]\n"
     ]
    }
   ],
   "source": [
    "import pandas as pd\n",
    "df = pd.read_csv(\"data_ny_temperatures.csv\")\n",
    "print(df.iloc[0]) # index rows\n",
    "# you can also use df.loc iand provide a LABEL instead of an integer\n",
    "# (if the dataframe has been defined with labels in rows, see next examples)\n",
    "\n",
    "# ASSIGN a value to a specific CELL:\n",
    "df.iloc[0, df.columns.get_loc(\"maxt\")] = -10\n",
    "print(df)"
   ]
  },
  {
   "cell_type": "markdown",
   "metadata": {},
   "source": [
    "In the following example\n",
    " * we set the index of the temperatures matrix from default (integers) to the date\n",
    " * we demonstrate how to use the loc method to index when non-integer indices are used"
   ]
  },
  {
   "cell_type": "code",
   "execution_count": 29,
   "metadata": {},
   "outputs": [
    {
     "name": "stdout",
     "output_type": "stream",
     "text": [
      "            maxt  mint\n",
      "date                  \n",
      "1869-04-09  47.0    33\n",
      "1870-04-09  66.0    44\n",
      "1871-04-09  83.0    62\n",
      "1872-04-09  54.0    41\n",
      "1873-04-09  50.0    39\n",
      "...          ...   ...\n",
      "2015-04-09  43.0    37\n",
      "2016-04-09  43.0    36\n",
      "2017-04-09  67.0    45\n",
      "2018-04-09  48.9    32\n",
      "2019-04-09  51.1    46\n",
      "\n",
      "[151 rows x 2 columns]\n"
     ]
    },
    {
     "data": {
      "text/plain": [
       "maxt    48.9\n",
       "mint    32.0\n",
       "Name: 2018-04-09, dtype: float64"
      ]
     },
     "execution_count": 29,
     "metadata": {},
     "output_type": "execute_result"
    }
   ],
   "source": [
    "import pandas as pd\n",
    "df = pd.read_csv(\"data_ny_temperatures.csv\")\n",
    "df = df.set_index(\"date\")\n",
    "print(df)\n",
    "# you can now use the loc method\n",
    "df.loc[\"2018-04-09\"]"
   ]
  },
  {
   "cell_type": "code",
   "execution_count": 2,
   "metadata": {},
   "outputs": [
    {
     "name": "stdout",
     "output_type": "stream",
     "text": [
      "            maxt  mint\n",
      "date                  \n",
      "1869-04-09  47.0    33\n",
      "1889-04-09  59.0    39\n",
      "1909-04-09  51.0    39\n",
      "1929-04-09  71.0    53\n",
      "1949-04-09  50.0    40\n",
      "1969-04-09  64.0    41\n",
      "1989-04-09  56.0    41\n",
      "2009-04-09  63.0    41\n",
      "            maxt  mint\n",
      "date                  \n",
      "1871-04-09  83.0    62\n",
      "1872-04-09  54.0    41\n",
      "            maxt  mint\n",
      "date                  \n",
      "1929-04-09  71.0    53\n",
      "1930-04-09  50.0    33\n",
      "1931-04-09  63.0    46\n",
      "1932-04-09  45.0    41\n",
      "1933-04-09  60.0    40\n",
      "1934-04-09  69.0    44\n",
      "1935-04-09  42.0    37\n",
      "1936-04-09  47.0    36\n",
      "1937-04-09  45.0    36\n",
      "1938-04-09  49.0    37\n",
      "1939-04-09  46.0    33\n",
      "1940-04-09  61.0    43\n",
      "1941-04-09  59.0    39\n",
      "1942-04-09  49.0    33\n",
      "1943-04-09  58.0    39\n",
      "1944-04-09  59.0    45\n"
     ]
    }
   ],
   "source": [
    "# SLICING\n",
    "import pandas as pd\n",
    "df = pd.read_csv(\"data_ny_temperatures.csv\")\n",
    "df = df.set_index(\"date\")\n",
    "print(df[::20]) # print every 20 rows\n",
    "print(df[2:4])  # print rows 2 to 3\n",
    "print(df[\"1929-04-09\": \"1944-04-09\"])  # use non-integer indices in slicing"
   ]
  },
  {
   "cell_type": "code",
   "execution_count": 4,
   "metadata": {},
   "outputs": [
    {
     "name": "stdout",
     "output_type": "stream",
     "text": [
      "            maxt  mint\n",
      "date                  \n",
      "1871-04-09  83.0    62\n",
      "1991-04-09  86.0    68\n",
      "2013-04-09  82.0    51\n",
      "            maxt  mint\n",
      "date                  \n",
      "1884-04-09  41.0    37\n",
      "1897-04-09  47.0    44\n",
      "1932-04-09  45.0    41\n",
      "1979-04-09  41.0    37\n",
      "1980-04-09  57.0    55\n",
      "2003-04-09  39.0    35\n",
      "date\n",
      "1871-04-09    83.0\n",
      "1885-04-09    39.0\n",
      "1950-04-09    46.0\n",
      "1977-04-09    44.0\n",
      "1991-04-09    86.0\n",
      "2013-04-09    82.0\n",
      "Name: maxt, dtype: float64\n"
     ]
    }
   ],
   "source": [
    "# SELECTION\n",
    "print(df[df['maxt'] > 80]) # select rows with maxt>80\n",
    "print(df[df['maxt'] - df['mint'] < 5]) # select rows with less than 5 difference between maxt and mint\n",
    "print(df[(df['maxt'] > 80) | (df['mint'] < 28)]) # select rows with very high max or very low min temperatures"
   ]
  },
  {
   "cell_type": "code",
   "execution_count": 32,
   "metadata": {},
   "outputs": [
    {
     "name": "stdout",
     "output_type": "stream",
     "text": [
      "            maxt  mint\n",
      "date                  \n",
      "1977-04-09  44.0    25\n",
      "1885-04-09  39.0    27\n",
      "1950-04-09  46.0    27\n",
      "1917-04-09  40.0    28\n",
      "1958-04-09  52.0    29\n",
      "...          ...   ...\n",
      "1968-04-09  74.0    55\n",
      "1980-04-09  57.0    55\n",
      "1981-04-09  75.0    55\n",
      "1871-04-09  83.0    62\n",
      "1991-04-09  86.0    68\n",
      "\n",
      "[151 rows x 2 columns]\n"
     ]
    }
   ],
   "source": [
    "# SORTING\n",
    "import pandas as pd\n",
    "df = pd.read_csv(\"data_ny_temperatures.csv\")\n",
    "df = df.set_index(\"date\")\n",
    "df = df.sort_values(by='mint') \n",
    "print(df)"
   ]
  },
  {
   "cell_type": "code",
   "execution_count": null,
   "metadata": {},
   "outputs": [],
   "source": []
  }
 ],
 "metadata": {
  "kernelspec": {
   "display_name": "Python 3",
   "language": "python",
   "name": "python3"
  },
  "language_info": {
   "codemirror_mode": {
    "name": "ipython",
    "version": 3
   },
   "file_extension": ".py",
   "mimetype": "text/x-python",
   "name": "python",
   "nbconvert_exporter": "python",
   "pygments_lexer": "ipython3",
   "version": "3.9.6"
  }
 },
 "nbformat": 4,
 "nbformat_minor": 4
}
