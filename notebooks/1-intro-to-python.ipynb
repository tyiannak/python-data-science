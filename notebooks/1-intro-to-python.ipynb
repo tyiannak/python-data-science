{
 "cells": [
  {
   "cell_type": "markdown",
   "metadata": {},
   "source": [
    "# Python basics"
   ]
  },
  {
   "cell_type": "markdown",
   "metadata": {},
   "source": [
    "## Printing, variables, strings "
   ]
  },
  {
   "cell_type": "code",
   "execution_count": 4,
   "metadata": {},
   "outputs": [
    {
     "name": "stdout",
     "output_type": "stream",
     "text": [
      "hello data world!\n",
      "5\n"
     ]
    }
   ],
   "source": [
    "# let's start\n",
    "print(\"hello data world!\")\n",
    "\n",
    "# we don't (usually) specify types to variables:\n",
    "n = 2\n",
    "x = 2.5\n",
    "y = 1.0\n",
    "print(x + y + n)"
   ]
  },
  {
   "cell_type": "code",
   "execution_count": 6,
   "metadata": {},
   "outputs": [
    {
     "name": "stdout",
     "output_type": "stream",
     "text": [
      "this is ' a name\n"
     ]
    }
   ],
   "source": [
    "# use double or single quotes for strings\n",
    "name1 = 'this is \n",
    "name2 = \" a name\"\n",
    "# string concatenation is simple\n",
    "print(name1 + name2)"
   ]
  },
  {
   "cell_type": "code",
   "execution_count": 10,
   "metadata": {},
   "outputs": [
    {
     "name": "stdout",
     "output_type": "stream",
     "text": [
      "hi there this is a test\n",
      "2.5\n",
      "and this is how you can print numbers with strings 2.5\n",
      "and this test is how to use f-strings2.5\n"
     ]
    }
   ],
   "source": [
    "# printing\n",
    "x = 2.5\n",
    "name = \"test\"\n",
    "print(\"hi there this is a \" + name)\n",
    "print(x)\n",
    "print(\"and this is how you can print numbers with strings \" + str(x))\n",
    "print(f\"and this {name} is how to use f-strings {x}\")"
   ]
  },
  {
   "cell_type": "markdown",
   "metadata": {},
   "source": [
    "## Tuples\n",
    "A tuple is a collection of elements that is immutable (you cannot add and remove elements from it). "
   ]
  },
  {
   "cell_type": "code",
   "execution_count": 11,
   "metadata": {},
   "outputs": [
    {
     "data": {
      "text/plain": [
       "True"
      ]
     },
     "execution_count": 11,
     "metadata": {},
     "output_type": "execute_result"
    }
   ],
   "source": [
    "# tuple example:\n",
    "t1 = (1, 2, 3)\n",
    "t2 = 1, 2, 3  # parentheses are not required\n",
    "t1 == t2"
   ]
  },
  {
   "cell_type": "code",
   "execution_count": 20,
   "metadata": {},
   "outputs": [
    {
     "data": {
      "text/plain": [
       "3"
      ]
     },
     "execution_count": 20,
     "metadata": {},
     "output_type": "execute_result"
    }
   ],
   "source": [
    "len(t1)  # same as list"
   ]
  },
  {
   "cell_type": "code",
   "execution_count": 21,
   "metadata": {},
   "outputs": [
    {
     "data": {
      "text/plain": [
       "2"
      ]
     },
     "execution_count": 21,
     "metadata": {},
     "output_type": "execute_result"
    }
   ],
   "source": [
    "t1[1]  # same as list"
   ]
  },
  {
   "cell_type": "code",
   "execution_count": 22,
   "metadata": {},
   "outputs": [
    {
     "data": {
      "text/plain": [
       "(1, 2)"
      ]
     },
     "execution_count": 22,
     "metadata": {},
     "output_type": "execute_result"
    }
   ],
   "source": [
    "t1[:2] # same as list"
   ]
  },
  {
   "cell_type": "markdown",
   "metadata": {},
   "source": [
    "## Lists"
   ]
  },
  {
   "cell_type": "code",
   "execution_count": 19,
   "metadata": {},
   "outputs": [
    {
     "name": "stdout",
     "output_type": "stream",
     "text": [
      "[1, -1, 10]\n",
      "list has 3 elements\n",
      "[1, ['name', 2], -0.51]\n"
     ]
    },
    {
     "data": {
      "text/plain": [
       "'name'"
      ]
     },
     "execution_count": 19,
     "metadata": {},
     "output_type": "execute_result"
    }
   ],
   "source": [
    "# lists: structures that form collection of variables\n",
    "numbers = [1, -1, 10]\n",
    "print(numbers)\n",
    "print(f'list has {len(numbers)} elements') # len() is a function that takes list objects as argument and returns number of elements\n",
    "\n",
    "# can contain different types (or even lists!)\n",
    "complex_list = [1, [\"name\", 2], -0.51]\n",
    "print(complex_list)\n",
    "complex_list[1][0]"
   ]
  },
  {
   "cell_type": "code",
   "execution_count": 26,
   "metadata": {},
   "outputs": [
    {
     "name": "stdout",
     "output_type": "stream",
     "text": [
      "this is the 2nd element of the list: 4\n",
      "t3st\n"
     ]
    }
   ],
   "source": [
    "# simple list indexing\n",
    "numbers = [1, 4, 10]\n",
    "print(f\"this is the 2nd element of the list: {numbers[1]}\")\n",
    "\n",
    "s = \"test\"\n",
    "# strings are also lists but they cannot be modified (immutable)\n",
    "# s[1] = \"3\" # this returns an error\n",
    "# instead you can do this: \n",
    "print(s.replace(\"e\", \"3\"))\n",
    "# replace is a METHOD of string OBJECTS"
   ]
  },
  {
   "cell_type": "code",
   "execution_count": 29,
   "metadata": {},
   "outputs": [
    {
     "name": "stdout",
     "output_type": "stream",
     "text": [
      "-10\n",
      "[2, 3]\n",
      "[1, 2, 3, 10]\n",
      "[1, 2, 3, 10, 15]\n",
      "[1, 3, 15, -10]\n",
      "[1, 3, 15]\n",
      "[-10, 2, 15, 10, 3, 2]\n"
     ]
    }
   ],
   "source": [
    "# negative list indices\n",
    "numbers = [1, 2, 3, 10, 15, 2, -10]\n",
    "print(numbers[-1])\n",
    "\n",
    "# ... and list slicing\n",
    "print(numbers[1:3])\n",
    "print(numbers[:4])\n",
    "print(numbers[:-2])\n",
    "print(numbers[::2])\n",
    "print(numbers[0:5:2])\n",
    "print(numbers[-1:0:-1])"
   ]
  },
  {
   "cell_type": "code",
   "execution_count": 34,
   "metadata": {},
   "outputs": [
    {
     "name": "stdout",
     "output_type": "stream",
     "text": [
      "[1, 2, -10, -10, 15, 2, -10]\n",
      "[1, 2, -10, -10, 15, 2, -10, -20, 2]\n",
      "[1, 2, -10, -10, 15, 2, -10, -20, 2, -100]\n"
     ]
    }
   ],
   "source": [
    "# list manipulation\n",
    "# element replacement\n",
    "numbers = [1, 2, 3, 10, 15, 2, -10]\n",
    "numbers[2:4] = [-10, -10]\n",
    "print(numbers)\n",
    "# list concatenation\n",
    "numbers += [-20, 2]\n",
    "print(numbers)\n",
    "# can also use the append method for appending a single element\n",
    "# (DOES NOT RETURN list but appends on existing object):\n",
    "numbers.append(-100)\n",
    "print(numbers)"
   ]
  },
  {
   "cell_type": "code",
   "execution_count": 37,
   "metadata": {},
   "outputs": [
    {
     "name": "stdout",
     "output_type": "stream",
     "text": [
      "[1, 0, 3]\n",
      "[1, 0, 3]\n",
      "Copy:\n",
      "[1, 0, 3]\n",
      "[1, 2, 3]\n"
     ]
    }
   ],
   "source": [
    "# copy lists vs by reference\n",
    "x = [1, 2, 3]\n",
    "y = x\n",
    "x[1] = 0\n",
    "print(x)\n",
    "print(y)\n",
    "# y has also changed\n",
    "\n",
    "print(\"Copy:\")\n",
    "x = [1, 2, 3]\n",
    "y = x[:]\n",
    "x[1] = 0\n",
    "print(x)\n",
    "print(y) \n",
    "# (y has not changed)"
   ]
  },
  {
   "cell_type": "markdown",
   "metadata": {},
   "source": [
    "## If statements"
   ]
  },
  {
   "cell_type": "code",
   "execution_count": 42,
   "metadata": {},
   "outputs": [
    {
     "name": "stdout",
     "output_type": "stream",
     "text": [
      "10 is the element no 3\n",
      "-2 is not found in list\n"
     ]
    }
   ],
   "source": [
    "# if statements\n",
    "my_list = [1, 2, -4, 10]\n",
    "number_to_find_1 =10\n",
    "\n",
    "if number_to_find_1 in my_list:\n",
    "    # call METHOD \"index\" of the list OBJECT:\n",
    "    print(f'{number_to_find_1} is the element no {my_list.index(number_to_find_1)}') \n",
    "else:\n",
    "    print(f'{number_to_find_1} is not found in list')\n",
    "    \n",
    "number_to_find_2 = -2\n",
    "if number_to_find_2 in my_list:\n",
    "    # call METHOD \"index\" of the list OBJECT:\n",
    "    print(f'{number_to_find_2} is the element no {my_list.index(number_to_find_2)}') \n",
    "else:\n",
    "    print(f'{number_to_find_2} is not found in list')\n",
    "        "
   ]
  },
  {
   "cell_type": "code",
   "execution_count": 44,
   "metadata": {},
   "outputs": [
    {
     "name": "stdout",
     "output_type": "stream",
     "text": [
      "hot\n"
     ]
    }
   ],
   "source": [
    "# more if\n",
    "temperature = 29\n",
    "if temperature < 10: \n",
    "    print(\"cold\")\n",
    "elif temperature < 25:\n",
    "    print(\"normal\")\n",
    "elif temperature < 35:\n",
    "    print('hot')\n",
    "else:\n",
    "    print(\"very hot\")"
   ]
  },
  {
   "cell_type": "code",
   "execution_count": 1,
   "metadata": {},
   "outputs": [
    {
     "name": "stdout",
     "output_type": "stream",
     "text": [
      "False\n",
      "True\n",
      "True\n",
      "True\n"
     ]
    }
   ],
   "source": [
    "# operators\n",
    "a = 10\n",
    "print(a == 3)\n",
    "print(a == 10)\n",
    "print(a < 20)\n",
    "\n",
    "# not operator:\n",
    "print(not False)"
   ]
  },
  {
   "cell_type": "markdown",
   "metadata": {},
   "source": [
    "## For loops"
   ]
  },
  {
   "cell_type": "code",
   "execution_count": 50,
   "metadata": {},
   "outputs": [
    {
     "name": "stdout",
     "output_type": "stream",
     "text": [
      "1\n",
      "5\n",
      "100\n"
     ]
    }
   ],
   "source": [
    "l = [1, 5, 100]\n",
    "for i in l:\n",
    "    print(i)"
   ]
  },
  {
   "cell_type": "code",
   "execution_count": 47,
   "metadata": {},
   "outputs": [
    {
     "name": "stdout",
     "output_type": "stream",
     "text": [
      "[0, 1, 2, 3, 4]\n",
      "1\n",
      "2\n",
      "3\n",
      "4\n",
      "5\n"
     ]
    }
   ],
   "source": [
    "for i in range(5):\n",
    "    print(i+1)"
   ]
  },
  {
   "cell_type": "code",
   "execution_count": 32,
   "metadata": {},
   "outputs": [
    {
     "name": "stdout",
     "output_type": "stream",
     "text": [
      "0\n",
      "5\n",
      "10\n",
      "15\n"
     ]
    }
   ],
   "source": [
    "for i in range(0, 20, 5):\n",
    "    print(i)"
   ]
  },
  {
   "cell_type": "code",
   "execution_count": 2,
   "metadata": {},
   "outputs": [
    {
     "name": "stdout",
     "output_type": "stream",
     "text": [
      "George\n",
      "Alan\n",
      "Mary\n"
     ]
    }
   ],
   "source": [
    "names = [\"George\", \"Alan\", \"Mary\"]\n",
    "for n in names:\n",
    "    print(n)"
   ]
  },
  {
   "cell_type": "code",
   "execution_count": 3,
   "metadata": {},
   "outputs": [
    {
     "name": "stdout",
     "output_type": "stream",
     "text": [
      "name 0: George\n",
      "name 1: Alan\n",
      "name 2: Mary\n"
     ]
    }
   ],
   "source": [
    "# with indices:\n",
    "names = [\"George\", \"Alan\", \"Mary\"]\n",
    "for i, n in enumerate(names):\n",
    "    print(f\"name {i}: {n}\")"
   ]
  },
  {
   "cell_type": "code",
   "execution_count": 53,
   "metadata": {},
   "outputs": [
    {
     "name": "stdout",
     "output_type": "stream",
     "text": [
      "[0, 0, 2, 6, 12, 20, 30, 42, 56, 72]\n"
     ]
    }
   ],
   "source": [
    "# list comprehensions\n",
    "my_list = [i**2 - i for i in range(0, 10)]\n",
    "#this is equivalent to:\n",
    "#my_list = []\n",
    "#for i in range(0, 10):\n",
    "#    my_list.append(i**2 - i)\n",
    "print(my_list)"
   ]
  },
  {
   "cell_type": "code",
   "execution_count": 59,
   "metadata": {},
   "outputs": [
    {
     "name": "stdout",
     "output_type": "stream",
     "text": [
      "list comprehensions are 11.2 % faster\n"
     ]
    }
   ],
   "source": [
    "# list comprehensions are faster than for loops\n",
    "import time\n",
    "n = 1000000\n",
    "\n",
    "# 1st method to create the list using list comprehensions:\n",
    "t1 = time.time()\n",
    "my_list = [i**2 - i for i in range(0, n)]\n",
    "t2 = time.time()\n",
    "\n",
    "# 2nd method to create the list (the tradiotional way)\n",
    "my_list = []\n",
    "for i in range(0, n):\n",
    "    my_list.append(i**2 - i)\n",
    "t3 = time.time()\n",
    "t_loop = t3 - t2\n",
    "t_com = t2 - t1\n",
    "print(f\"list comprehensions are {100*(t_loop-t_com)/t_loop:.1f} % faster\")"
   ]
  },
  {
   "cell_type": "markdown",
   "metadata": {},
   "source": [
    "## Dictionaries"
   ]
  },
  {
   "cell_type": "code",
   "execution_count": 61,
   "metadata": {},
   "outputs": [
    {
     "name": "stdout",
     "output_type": "stream",
     "text": [
      "type-r\n",
      "brand honda\n",
      "model civic\n",
      "type type-r\n",
      "engine 1997\n",
      "power 320\n"
     ]
    }
   ],
   "source": [
    "# dictionaries are unordered and mutable\n",
    "car = {\n",
    "    \"brand\": \"honda\", \n",
    "    \"model\": \"civic\",\n",
    "    \"type\": \"type-r\",\n",
    "    \"engine\": 1997,\n",
    "    \"power\": 320\n",
    "}\n",
    "\n",
    "print(car['type'])\n",
    "\n"
   ]
  },
  {
   "cell_type": "code",
   "execution_count": 57,
   "metadata": {},
   "outputs": [
    {
     "name": "stdout",
     "output_type": "stream",
     "text": [
      "brand:honda\n",
      "model:civic\n",
      "type:type-r\n",
      "engine:1997\n",
      "power:320\n",
      "dict_keys(['brand', 'model', 'type', 'engine', 'power'])\n",
      "dict_values(['honda', 'civic', 'type-r', 1997, 320])\n",
      "dict_items([('brand', 'honda'), ('model', 'civic'), ('type', 'type-r'), ('engine', 1997), ('power', 320)])\n",
      "honda\n",
      "{'brand': 'honda', 'model': 'civic', 'type': 'type-r', 'engine': 1997, 'power': 320, 'year': 2017}\n",
      "engine found!\n",
      "{'brand': 'honda', 'model': 'civic', 'type': 'type-r', 'power': 320, 'year': 2017}\n",
      "engine not found!\n"
     ]
    }
   ],
   "source": [
    "# dictionaries are unordered and mutable\n",
    "car = {\n",
    "    \"brand\": \"honda\", \n",
    "    \"model\": \"civic\",\n",
    "    \"type\": \"type-r\",\n",
    "    \"engine\": 1997,\n",
    "    \"power\": 320\n",
    "}\n",
    "\n",
    "\n",
    "# to iterate the (key,val) pairs of a dict:\n",
    "for key in car:\n",
    "    print(f\"{key}:{car[key]}\")\n",
    "    \n",
    "# ... or:\n",
    "for key, value in car.items():\n",
    "    print(key, value)\n",
    "\n",
    "print(car.keys())\n",
    "print(car.values())\n",
    "print(car.items())\n",
    "\n",
    "# print specific value:\n",
    "print(car[\"brand\"])\n",
    "\n",
    "# insert value:\n",
    "car[\"year\"] = 2017\n",
    "print(car)\n",
    "\n",
    "# check if key in dict:\n",
    "if \"engine\" in car:\n",
    "    print(\"engine found!\")\n",
    "\n",
    "\n",
    "# delete a key-value\n",
    "del car[\"engine\"]\n",
    "print(car)\n",
    "if \"engine\" not in car:\n",
    "    print(\"engine not found!\")\n",
    "\n"
   ]
  },
  {
   "cell_type": "code",
   "execution_count": 63,
   "metadata": {},
   "outputs": [
    {
     "name": "stdout",
     "output_type": "stream",
     "text": [
      "without copy:\n",
      "{'l1': 20, 'l2': 20}\n",
      "{'l1': 20, 'l2': 20}\n",
      "simple dict-copy:\n",
      "{'l1': 20, 'l2': 20}\n",
      "{'l1': 10, 'l2': 20}\n",
      "simple dict-copy - 2:\n",
      "{'l1': [1000, 20], 'l2': 20}\n",
      "{'l1': [1000, 20], 'l2': 20}\n",
      "with deep copy - 2:\n",
      "{'l1': [1000, 20], 'l2': 20}\n",
      "{'l1': [10, 20], 'l2': 20}\n"
     ]
    }
   ],
   "source": [
    "# deep and shallow copy:\n",
    "# example 1:\n",
    "# without copy:\n",
    "print(\"without copy:\")\n",
    "d1 = {\"l1\": 10, \"l2\": 20}\n",
    "d2 = d1\n",
    "d1[\"l1\"] = 20\n",
    "print(d1)\n",
    "print(d2)\n",
    "\n",
    "# dict contains simple types (not lists, dicts, tuples etc)\n",
    "print(\"simple dict-copy:\")\n",
    "d1 = {\"l1\": 10, \"l2\": 20}\n",
    "d2 = d1.copy()\n",
    "d1[\"l1\"] = 20\n",
    "print(d1)\n",
    "print(d2)\n",
    "\n",
    "print(\"simple dict-copy - 2:\")\n",
    "d1 = {\"l1\": [10, 20], \"l2\": 20}\n",
    "d2 = d1.copy()\n",
    "d1[\"l1\"][0] = 1000\n",
    "print(d1)\n",
    "print(d2)\n",
    "\n",
    "print(\"with deep copy - 2:\")\n",
    "import copy\n",
    "d1 = {\"l1\": [10, 20], \"l2\": 20}\n",
    "d2 = copy.deepcopy(d1)\n",
    "d1[\"l1\"][0] = 1000\n",
    "print(d1)\n",
    "print(d2)"
   ]
  },
  {
   "cell_type": "code",
   "execution_count": 65,
   "metadata": {},
   "outputs": [
    {
     "name": "stdout",
     "output_type": "stream",
     "text": [
      "{'greece': 10, 'germany': 85, 'france': 65, 'uk': 68, 'italy': 60, 'spain': 46, 'austria': 9, 'ireland': 5, 'cyprus': 1}\n",
      "{'germany': 85, 'france': 65, 'uk': 68, 'italy': 60, 'spain': 46}\n",
      "{'germany': 85, 'france': 65, 'uk': 68, 'italy': 60, 'spain': 46}\n"
     ]
    }
   ],
   "source": [
    "# dictionaries comprehension\n",
    "countries_pop = dict(greece=10, germany=85, france=65, uk=68, italy=60, spain=46, austria=9, ireland=5, cyprus=1)\n",
    "print(countries_pop)\n",
    "\n",
    "large_countries = {}\n",
    "for c, p in countries_pop.items():\n",
    "    if p > 10:\n",
    "        large_countries[c] = p        \n",
    "print(large_countries)\n",
    "\n",
    "large_countries = {c:p for c, p in countries_pop.items() if p > 10}\n",
    "print(large_countries)"
   ]
  },
  {
   "cell_type": "markdown",
   "metadata": {},
   "source": [
    "## Reading files"
   ]
  },
  {
   "cell_type": "code",
   "execution_count": 70,
   "metadata": {},
   "outputs": [
    {
     "name": "stdout",
     "output_type": "stream",
     "text": [
      "But I had forgotten Bombadil, if indeed this is still the same that walked the woods and hills long ago, and even then was older than the old. \n",
      "That was not then his name. Iarwain Ben-adar we called him, oldest and fatherless. \n",
      "But many another name he has since been given by other folk: Forn by the Dwarves, Orald by Northern Men, and other names beside. He is a strange creature...\n",
      "\n",
      "385 characters\n"
     ]
    }
   ],
   "source": [
    "# text files reading\n",
    "import os.path\n",
    "if os.path.exists(\"text_file.txt\"):\n",
    "    with open(\"text_file.txt\", \"r\") as file_reader:\n",
    "        data = file_reader.read()\n",
    "    print(data)\n",
    "    print(f'{len(data)} characters')"
   ]
  },
  {
   "cell_type": "code",
   "execution_count": 41,
   "metadata": {},
   "outputs": [
    {
     "name": "stdout",
     "output_type": "stream",
     "text": [
      "['But I had forgotten Bombadil, if indeed this is still the same that walked the woods and hills long ago, and even then was older than the old. \\n', 'That was not then his name. Iarwain Ben-adar we called him, oldest and fatherless. \\n', 'But many another name he has since been given by other folk: Forn by the Dwarves, Orald by Northern Men, and other names beside. He is a strange creature...\\n']\n",
      "3 lines\n"
     ]
    }
   ],
   "source": [
    "# read lines\n",
    "with open(\"text_file.txt\", \"r\") as file_reader:\n",
    "    data = file_reader.readlines()\n",
    "print(data)\n",
    "print(f'{len(data)} lines')"
   ]
  },
  {
   "cell_type": "code",
   "execution_count": 79,
   "metadata": {},
   "outputs": [
    {
     "name": "stdout",
     "output_type": "stream",
     "text": [
      "5000\n",
      "Bing Crosby\n",
      "Sean Kingston\n",
      "Band Aid\n",
      "David Guetta & Akon\n",
      "Phil Collins\n",
      "Elvis Presley\n",
      "Tony Bennett\n",
      "Cyndi Lauper\n",
      "The Jackson 5\n",
      "The Rolling Stones\n",
      "Les Paul & Mary Ford\n",
      "Johnny Mercer\n",
      "Millie Small\n",
      "Queen\n",
      "Notorious BIG & P Diddy\n",
      "Barbra Streisand & Bryan Adams\n",
      "The Doors\n",
      "The Pussycat Dolls & Will.I.Am\n",
      "Elvis Presley\n",
      "Bill Withers\n",
      "The Young Rascals\n",
      "Robin Gibb\n",
      "Mary J Blige & U2\n",
      "Faith Hill\n",
      "Def Leppard\n",
      "Peter, Paul & Mary\n",
      "Avril Lavigne\n",
      "Debbie Gibson\n",
      "Kim Wilde\n",
      "Glen Campbell\n",
      "Metallica\n",
      "The Mills Brothers\n",
      "Bryan Adams & Melanie C\n",
      "Michael Buble\n",
      "Elton John\n",
      "Offspring\n",
      "Francoise Hardy\n",
      "First Class\n",
      "Ray Conniff\n",
      "Seal\n",
      "McFadden & Whitehead\n",
      "T-Bone Walker Quintet\n",
      "Good Charlotte\n",
      "Avril Lavigne\n",
      "Dolly Parton\n",
      "Radiohead\n",
      "Belinda Carlisle\n",
      "Frankie Vaughan\n",
      "The Beatles\n",
      "Ce Ce Peniston\n"
     ]
    }
   ],
   "source": [
    "# read file from json (as a simple text file) and convert string to dict using json.loads() function\n",
    "with open('songs_metadata.json') as reader_json:\n",
    "    json_string = reader_json.read()\n",
    "import json\n",
    "list_of_dicts = json.loads(json_string)\n",
    "print(len(list_of_dicts)\n",
    "for d in list_of_dicts[::100]:\n",
    "    if 'artist' in d:\n",
    "        print(d['artist'])"
   ]
  },
  {
   "cell_type": "markdown",
   "metadata": {},
   "source": [
    "## Functions in Python"
   ]
  },
  {
   "cell_type": "code",
   "execution_count": 81,
   "metadata": {},
   "outputs": [
    {
     "name": "stdout",
     "output_type": "stream",
     "text": [
      "Hello!\n"
     ]
    }
   ],
   "source": [
    "def this_is_a_function_with_no_args():\n",
    "    print(\"Hello!\") \n",
    "this_is_a_function_with_no_args()"
   ]
  },
  {
   "cell_type": "code",
   "execution_count": 10,
   "metadata": {},
   "outputs": [
    {
     "name": "stdout",
     "output_type": "stream",
     "text": [
      "hello!\n"
     ]
    }
   ],
   "source": [
    "def concatenate_strings_and_print(string1, string2):\n",
    "    print(string1 + string2)\n",
    "concatenate_strings_and_print(\"hello\", \"!\")"
   ]
  },
  {
   "cell_type": "code",
   "execution_count": 84,
   "metadata": {},
   "outputs": [
    {
     "name": "stdout",
     "output_type": "stream",
     "text": [
      "4\n",
      "This is the second argument: IS\n"
     ]
    }
   ],
   "source": [
    "def fun_with_unknown_num_of_arguments(*args):\n",
    "    print(len(args))\n",
    "    print(f\"This is the second argument: {args[1]}\")\n",
    "fun_with_unknown_num_of_arguments(\"THIS\", \"IS\", \"A\", \"TEST\")"
   ]
  },
  {
   "cell_type": "code",
   "execution_count": 87,
   "metadata": {},
   "outputs": [
    {
     "ename": "SyntaxError",
     "evalue": "non-default argument follows default argument (2910958961.py, line 2)",
     "output_type": "error",
     "traceback": [
      "\u001b[0;36m  Input \u001b[0;32mIn [87]\u001b[0;36m\u001b[0m\n\u001b[0;31m    def fun(amka, name=\"George\", id_no):\u001b[0m\n\u001b[0m                                 ^\u001b[0m\n\u001b[0;31mSyntaxError\u001b[0m\u001b[0;31m:\u001b[0m non-default argument follows default argument\n"
     ]
    }
   ],
   "source": [
    "# default parameter values: (name is optional)\n",
    "def fun(name=\"George\"):\n",
    "    print(name)\n",
    "    \n",
    "fun(\"Maria\")\n",
    "fun(\"Helen\")\n",
    "fun() # if the arg is not provided --> default param value is used"
   ]
  },
  {
   "cell_type": "code",
   "execution_count": 46,
   "metadata": {},
   "outputs": [
    {
     "name": "stdout",
     "output_type": "stream",
     "text": [
      "9\n"
     ]
    }
   ],
   "source": [
    "# this is how to return value:\n",
    "def find_max(some_list):\n",
    "    m = some_list[0]\n",
    "    for x in some_list[1:]:\n",
    "        if m < x:\n",
    "            m = x\n",
    "    return m\n",
    "\n",
    "print(find_max([2,4,1,5,6,7,8,9,1]))"
   ]
  },
  {
   "cell_type": "code",
   "execution_count": 88,
   "metadata": {},
   "outputs": [
    {
     "name": "stdout",
     "output_type": "stream",
     "text": [
      "1\n",
      "9\n"
     ]
    }
   ],
   "source": [
    "# and return more than one values:\n",
    "def find_max_min(some_list):\n",
    "    max_val = some_list[0]\n",
    "    min_val = some_list[0]\n",
    "    for x in some_list[1:]:\n",
    "        if max_val < x:\n",
    "            max_val = x\n",
    "        if min_val > x:\n",
    "            min_val = x  \n",
    "    return min_val, max_val\n",
    "\n",
    "mymax, mymin = find_max_min([2,4,1,5,6,7,8,9,1])\n",
    "print(mymax)\n",
    "print(mymin)"
   ]
  },
  {
   "cell_type": "markdown",
   "metadata": {},
   "source": [
    "## Lamda functions\n",
    "Python lambdas are short and anonymous functions. Lambda expressions in Python and other programming languages have their roots in lambda calculus, a model of computation used in several programming languages. "
   ]
  },
  {
   "cell_type": "code",
   "execution_count": 48,
   "metadata": {},
   "outputs": [
    {
     "data": {
      "text/plain": [
       "20"
      ]
     },
     "execution_count": 48,
     "metadata": {},
     "output_type": "execute_result"
    }
   ],
   "source": [
    "# this lamda expression\n",
    "double_number = lambda x: 2 * x\n",
    "double_number(10)"
   ]
  },
  {
   "cell_type": "code",
   "execution_count": 49,
   "metadata": {},
   "outputs": [
    {
     "data": {
      "text/plain": [
       "20"
      ]
     },
     "execution_count": 49,
     "metadata": {},
     "output_type": "execute_result"
    }
   ],
   "source": [
    "# is equivalent to this function:\n",
    "def double_number(x):\n",
    "    return 2 * x\n",
    "double_number(10)"
   ]
  },
  {
   "cell_type": "code",
   "execution_count": 17,
   "metadata": {},
   "outputs": [
    {
     "name": "stdout",
     "output_type": "stream",
     "text": [
      "12\n"
     ]
    }
   ],
   "source": [
    "# lamda with two arguments:\n",
    "y = lambda a, b : a * b\n",
    "print(y(3, 4))"
   ]
  },
  {
   "cell_type": "code",
   "execution_count": null,
   "metadata": {},
   "outputs": [],
   "source": []
  }
 ],
 "metadata": {
  "kernelspec": {
   "display_name": "Python 3",
   "language": "python",
   "name": "python3"
  },
  "language_info": {
   "codemirror_mode": {
    "name": "ipython",
    "version": 3
   },
   "file_extension": ".py",
   "mimetype": "text/x-python",
   "name": "python",
   "nbconvert_exporter": "python",
   "pygments_lexer": "ipython3",
   "version": "3.10.5"
  }
 },
 "nbformat": 4,
 "nbformat_minor": 4
}
